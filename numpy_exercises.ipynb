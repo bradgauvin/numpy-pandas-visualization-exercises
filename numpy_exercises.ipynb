{
 "cells": [
  {
   "cell_type": "markdown",
   "id": "48f658f3",
   "metadata": {},
   "source": [
    "# numpy_exercises"
   ]
  },
  {
   "cell_type": "markdown",
   "id": "94a2a405",
   "metadata": {},
   "source": [
    "## Use the following code for the questions below:"
   ]
  },
  {
   "cell_type": "code",
   "execution_count": 2,
   "id": "060790bd",
   "metadata": {},
   "outputs": [],
   "source": [
    "import numpy as np"
   ]
  },
  {
   "cell_type": "code",
   "execution_count": 3,
   "id": "ef6afc28",
   "metadata": {},
   "outputs": [],
   "source": [
    "a = np.array([4, 10, 12, 23, -2, -1, 0, 0, 0, -6, 3, -7])"
   ]
  },
  {
   "cell_type": "markdown",
   "id": "7d9cf703",
   "metadata": {},
   "source": [
    "1. How many negative numbers are there?\n",
    "2. How many positive numbers are there?\n",
    "3. How many even positive numbers are there?\n",
    "4. If you were to add 3 to each data point, how many positive numbers would there be?\n",
    "5. If you squared each number, what would the new mean and standard deviation be?\n"
   ]
  },
  {
   "cell_type": "code",
   "execution_count": 6,
   "id": "22d45e0d",
   "metadata": {},
   "outputs": [
    {
     "name": "stdout",
     "output_type": "stream",
     "text": [
      "4\n"
     ]
    }
   ],
   "source": [
    "#1 \n",
    "print(len(a[a< 0]))"
   ]
  },
  {
   "cell_type": "code",
   "execution_count": 7,
   "id": "59623d6e",
   "metadata": {},
   "outputs": [
    {
     "name": "stdout",
     "output_type": "stream",
     "text": [
      "5\n"
     ]
    }
   ],
   "source": [
    "#2\n",
    "print(len(a[a>0]))"
   ]
  },
  {
   "cell_type": "code",
   "execution_count": 8,
   "id": "0723840a",
   "metadata": {},
   "outputs": [
    {
     "name": "stdout",
     "output_type": "stream",
     "text": [
      "3\n"
     ]
    }
   ],
   "source": [
    "#3\n",
    "print(len(a[(a>0) & (a%2==0)]))"
   ]
  },
  {
   "cell_type": "code",
   "execution_count": 11,
   "id": "3adc683f",
   "metadata": {},
   "outputs": [
    {
     "name": "stdout",
     "output_type": "stream",
     "text": [
      "7\n"
     ]
    },
    {
     "data": {
      "text/plain": [
       "array([10, 16, 18, 29,  4,  5,  6,  6,  6,  0,  9, -1])"
      ]
     },
     "execution_count": 11,
     "metadata": {},
     "output_type": "execute_result"
    }
   ],
   "source": [
    "#4\n",
    "a +=3\n",
    "print(len(a[(a>0) & (a%2==0)]))\n",
    "a"
   ]
  },
  {
   "cell_type": "code",
   "execution_count": 14,
   "id": "c0b51f16",
   "metadata": {},
   "outputs": [
    {
     "name": "stdout",
     "output_type": "stream",
     "text": [
      "3.0\n",
      "8.06225774829855\n",
      "74.0\n",
      "144.0243035046516\n"
     ]
    }
   ],
   "source": [
    "#5\n",
    "a = np.array([4, 10, 12, 23, -2, -1, 0, 0, 0, -6, 3, -7])\n",
    "print(a.mean())\n",
    "print(a.std())\n",
    "a=a**2\n",
    "print(a.mean())\n",
    "print(a.std())"
   ]
  },
  {
   "cell_type": "markdown",
   "id": "d272702a",
   "metadata": {},
   "source": [
    " 6. A common statistical operation on a dataset is centering. \n",
    "- This means to adjust the data such that the mean of the data is 0. \n",
    "- This is done by subtracting the mean from each data point. Center the data set. \n",
    "- See this link for more on centering.\n",
    " 7. Calculate the z-score for each data point. Recall that the z-score is given by:\n",
    "- Z =(x−μ)/σ\n",
    " 8. Copy the setup and exercise directions from More Numpy Practice into your numpy_exercises.py and add your solutions."
   ]
  },
  {
   "cell_type": "code",
   "execution_count": 19,
   "id": "1cb9870f",
   "metadata": {},
   "outputs": [
    {
     "name": "stdout",
     "output_type": "stream",
     "text": [
      "[  1.   7.   9.  20.  -5.  -4.  -3.  -3.  -3.  -9.   0. -10.]\n"
     ]
    }
   ],
   "source": [
    "a = np.array([4, 10, 12, 23, -2, -1, 0, 0, 0, -6, 3, -7])\n",
    "\n",
    "cent=a-a.mean()\n",
    "print(cent)"
   ]
  },
  {
   "cell_type": "code",
   "execution_count": 20,
   "id": "1afe41d1",
   "metadata": {},
   "outputs": [
    {
     "name": "stdout",
     "output_type": "stream",
     "text": [
      "[ 0.12403473  0.86824314  1.11631261  2.48069469 -0.62017367 -0.49613894\n",
      " -0.3721042  -0.3721042  -0.3721042  -1.11631261  0.         -1.24034735]\n"
     ]
    }
   ],
   "source": [
    "a = np.array([4, 10, 12, 23, -2, -1, 0, 0, 0, -6, 3, -7])\n",
    "a=cent/a.std()\n",
    "print(a)"
   ]
  },
  {
   "cell_type": "markdown",
   "id": "0cc8089f",
   "metadata": {},
   "source": [
    "## import numpy as np\n",
    "# Life w/o numpy to life with numpy\n",
    "\n",
    "## Setup 1\n",
    "a = [1, 2, 3, 4, 5, 6, 7, 8, 9, 10]\n",
    "\n",
    "### Use python's built in functionality/operators to determine the following:\n",
    "### Exercise 1 - Make a variable called sum_of_a to hold the sum of all the numbers in above list\n",
    "\n",
    "### Exercise 2 - Make a variable named min_of_a to hold the minimum of all the numbers in the above list\n",
    "\n",
    "### Exercise 3 - Make a variable named max_of_a to hold the max number of all the numbers in the above list\n",
    "\n",
    "### Exercise 4 - Make a variable named mean_of_a to hold the average of all the numbers in the above list\n",
    "\n",
    "### Exercise 5 - Make a variable named product_of_a to hold the product of multiplying all the numbers in the above list together\n",
    "\n",
    "### Exercise 6 - Make a variable named squares_of_a. It should hold each number in a squared like [1, 4, 9, 16, 25...]\n",
    "\n",
    "### Exercise 7 - Make a variable named odds_in_a. It should hold only the odd numbers\n",
    "\n",
    "### Exercise 8 - Make a variable named evens_in_a. It should hold only the evens.\n",
    "\n",
    "### What about life in two dimensions? A list of lists is matrix, a table, a spreadsheet, a chessboard..."
   ]
  },
  {
   "cell_type": "code",
   "execution_count": 21,
   "id": "cf68512a",
   "metadata": {},
   "outputs": [],
   "source": [
    "a = [1, 2, 3, 4, 5, 6, 7, 8, 9, 10]"
   ]
  },
  {
   "cell_type": "code",
   "execution_count": 26,
   "id": "61527ed2",
   "metadata": {},
   "outputs": [
    {
     "name": "stdout",
     "output_type": "stream",
     "text": [
      "55\n"
     ]
    }
   ],
   "source": [
    "sum_of_a = sum(a)\n",
    "print(sum_of_a)"
   ]
  },
  {
   "cell_type": "code",
   "execution_count": 28,
   "id": "95173656",
   "metadata": {},
   "outputs": [
    {
     "name": "stdout",
     "output_type": "stream",
     "text": [
      "1\n"
     ]
    }
   ],
   "source": [
    "min_of_a = min(a)\n",
    "print(min_of_a)"
   ]
  },
  {
   "cell_type": "code",
   "execution_count": 30,
   "id": "679eb475",
   "metadata": {},
   "outputs": [
    {
     "name": "stdout",
     "output_type": "stream",
     "text": [
      "10\n"
     ]
    }
   ],
   "source": [
    "max_of_a = max(a)\n",
    "print(max_of_a)"
   ]
  },
  {
   "cell_type": "code",
   "execution_count": 33,
   "id": "b9fe41d0",
   "metadata": {},
   "outputs": [],
   "source": [
    "import numpy as np"
   ]
  },
  {
   "cell_type": "code",
   "execution_count": 34,
   "id": "d6006e61",
   "metadata": {},
   "outputs": [
    {
     "ename": "AttributeError",
     "evalue": "'list' object has no attribute 'mean'",
     "output_type": "error",
     "traceback": [
      "\u001b[0;31m---------------------------------------------------------------------------\u001b[0m",
      "\u001b[0;31mAttributeError\u001b[0m                            Traceback (most recent call last)",
      "Input \u001b[0;32mIn [34]\u001b[0m, in \u001b[0;36m<cell line: 1>\u001b[0;34m()\u001b[0m\n\u001b[0;32m----> 1\u001b[0m mean_a \u001b[38;5;241m=\u001b[39m \u001b[43ma\u001b[49m\u001b[38;5;241;43m.\u001b[39;49m\u001b[43mmean\u001b[49m()\n\u001b[1;32m      2\u001b[0m \u001b[38;5;28mprint\u001b[39m(mean_a)\n",
      "\u001b[0;31mAttributeError\u001b[0m: 'list' object has no attribute 'mean'"
     ]
    }
   ],
   "source": [
    "mean_a = a.mean()\n",
    "print(mean_a)"
   ]
  },
  {
   "cell_type": "code",
   "execution_count": 35,
   "id": "5e8b5167",
   "metadata": {},
   "outputs": [],
   "source": [
    "a = np.array([1, 2, 3, 4, 5, 6, 7, 8, 9, 10])"
   ]
  },
  {
   "cell_type": "code",
   "execution_count": 36,
   "id": "df8c8b14",
   "metadata": {},
   "outputs": [
    {
     "name": "stdout",
     "output_type": "stream",
     "text": [
      "5.5\n"
     ]
    }
   ],
   "source": [
    "mean_a = a.mean()\n",
    "print (mean_a)"
   ]
  },
  {
   "cell_type": "code",
   "execution_count": 37,
   "id": "5577a7c2",
   "metadata": {},
   "outputs": [
    {
     "name": "stdout",
     "output_type": "stream",
     "text": [
      "3628800\n"
     ]
    }
   ],
   "source": [
    "import math\n",
    "product_a = math.prod(a)\n",
    "print(product_a)"
   ]
  },
  {
   "cell_type": "code",
   "execution_count": 38,
   "id": "1e306ec9",
   "metadata": {},
   "outputs": [
    {
     "name": "stdout",
     "output_type": "stream",
     "text": [
      "[  1   4   9  16  25  36  49  64  81 100]\n"
     ]
    }
   ],
   "source": [
    "square_a = a**2\n",
    "print(square_a)"
   ]
  },
  {
   "cell_type": "code",
   "execution_count": 41,
   "id": "030e1d05",
   "metadata": {},
   "outputs": [
    {
     "name": "stdout",
     "output_type": "stream",
     "text": [
      "[1, 3, 5, 7, 9]\n"
     ]
    }
   ],
   "source": [
    "# attempt 1\n",
    "odd_a = [n for n in a if n % 2 != 0]\n",
    "print(odd_a)"
   ]
  },
  {
   "cell_type": "code",
   "execution_count": 43,
   "id": "5984f398",
   "metadata": {},
   "outputs": [
    {
     "name": "stdout",
     "output_type": "stream",
     "text": [
      "[2, 4, 6, 8, 10]\n"
     ]
    }
   ],
   "source": [
    "evens_a = [n for n in a if n%2==0]\n",
    "print(evens_a)"
   ]
  },
  {
   "cell_type": "markdown",
   "id": "5ac27d07",
   "metadata": {},
   "source": [
    "# Setup 2: Consider what it would take to find the sum, min, max, average, sum, product, and list of squares for this list of two lists.\n",
    "- b = [\n",
    "-   [3, 4, 5],\n",
    "-   [6, 7, 8]\n",
    "- ]\n",
    "\n",
    "### Exercise 1 - refactor the following to use numpy. Use sum_of_b as the variable. **Hint, you'll first need to make sure that the \"b\" variable is a numpy array**\n",
    "sum_of_b = 0\n",
    "for row in b:\n",
    "    sum_of_b += sum(row)\n",
    "\n",
    "### Exercise 2 - refactor the following to use numpy. \n",
    "min_of_b = min(b[0]) if min(b[0]) <= min(b[1]) else min(b[1])  \n",
    "\n",
    "### Exercise 3 - refactor the following maximum calculation to find the answer with numpy.\n",
    "max_of_b = max(b[0]) if max(b[0]) >= max(b[1]) else max(b[1])\n",
    "\n",
    "\n",
    "### Exercise 4 - refactor the following using numpy to find the mean of b\n",
    "mean_of_b = (sum(b[0]) + sum(b[1])) / (len(b[0]) + len(b[1]))\n",
    "\n",
    "### Exercise 5 - refactor the following to use numpy for calculating the product of all numbers multiplied together.\n",
    "product_of_b = 1\n",
    "for row in b:\n",
    "    for number in row:\n",
    "        product_of_b *= number\n",
    "\n",
    "# Exercise 6 - refactor the following to use numpy to find the list of squares \n",
    "squares_of_b = []\n",
    "for row in b:\n",
    "    for number in row:\n",
    "        squares_of_b.append(number**2)\n",
    "\n",
    "\n",
    "### Exercise 7 - refactor using numpy to determine the odds_in_b\n",
    "odds_in_b = []\n",
    "for row in b:\n",
    "    for number in row:\n",
    "        if(number % 2 != 0):\n",
    "            odds_in_b.append(number)\n",
    "\n",
    "\n",
    "### Exercise 8 - refactor the following to use numpy to filter only the even numbers\n",
    "evens_in_b = []\n",
    "for row in b:\n",
    "    for number in row:\n",
    "        if(number % 2 == 0):\n",
    "            evens_in_b.append(number)\n",
    "\n",
    "### Exercise 9 - print out the shape of the array b.\n",
    "\n",
    "### Exercise 10 - transpose the array b.\n",
    "\n",
    "### Exercise 11 - reshape the array b to be a single list of 6 numbers. (1 x 6)\n",
    "\n",
    "### Exercise 12 - reshape the array b to be a list of 6 lists, each containing only 1 number (6 x 1)\n"
   ]
  },
  {
   "cell_type": "code",
   "execution_count": 71,
   "id": "3674a455",
   "metadata": {},
   "outputs": [],
   "source": [
    "#1\n",
    "b = np.array ([\n",
    "    [3, 4, 5],\n",
    "    [6, 7, 8]\n",
    "])"
   ]
  },
  {
   "cell_type": "code",
   "execution_count": 48,
   "id": "74ce811c",
   "metadata": {},
   "outputs": [
    {
     "name": "stdout",
     "output_type": "stream",
     "text": [
      "33\n"
     ]
    }
   ],
   "source": [
    "#2\n",
    "sum_b = b.sum()\n",
    "print(sum_b)"
   ]
  },
  {
   "cell_type": "code",
   "execution_count": 49,
   "id": "cb4c37d0",
   "metadata": {},
   "outputs": [
    {
     "name": "stdout",
     "output_type": "stream",
     "text": [
      "3\n"
     ]
    }
   ],
   "source": [
    "#n/a - got carried away\n",
    "min_b = b.min()\n",
    "print(min_b)"
   ]
  },
  {
   "cell_type": "code",
   "execution_count": 50,
   "id": "f0ae4f39",
   "metadata": {},
   "outputs": [
    {
     "name": "stdout",
     "output_type": "stream",
     "text": [
      "8\n"
     ]
    }
   ],
   "source": [
    "#3\n",
    "max_b = b.max()\n",
    "print(max_b)"
   ]
  },
  {
   "cell_type": "code",
   "execution_count": 51,
   "id": "3875f7bb",
   "metadata": {},
   "outputs": [
    {
     "name": "stdout",
     "output_type": "stream",
     "text": [
      "5.5\n"
     ]
    }
   ],
   "source": [
    "#4\n",
    "mean_b = b.mean()\n",
    "print(mean_b)"
   ]
  },
  {
   "cell_type": "code",
   "execution_count": 55,
   "id": "eb00e0ad",
   "metadata": {},
   "outputs": [
    {
     "name": "stdout",
     "output_type": "stream",
     "text": [
      "20160\n"
     ]
    }
   ],
   "source": [
    "# Exercise 5 - refactor the following to use numpy for calculating the product of all numbers multiplied together.\n",
    "prod_b = np.prod(b)\n",
    "print(prod_b)"
   ]
  },
  {
   "cell_type": "code",
   "execution_count": 54,
   "id": "b040ce58",
   "metadata": {},
   "outputs": [
    {
     "name": "stdout",
     "output_type": "stream",
     "text": [
      "[[ 9 16 25]\n",
      " [36 49 64]]\n"
     ]
    }
   ],
   "source": [
    "#6\n",
    "square_b = np.square(b)\n",
    "print(square_b)"
   ]
  },
  {
   "cell_type": "code",
   "execution_count": 69,
   "id": "0bcc76c8",
   "metadata": {},
   "outputs": [
    {
     "data": {
      "text/plain": [
       "array([3, 5, 7])"
      ]
     },
     "execution_count": 69,
     "metadata": {},
     "output_type": "execute_result"
    }
   ],
   "source": [
    "# Exercise 7 - refactor using numpy to determine the odds_in_b\n",
    "mask_even = b % 2 != 0\n",
    "mask_even\n",
    "b[mask_even]"
   ]
  },
  {
   "cell_type": "code",
   "execution_count": 76,
   "id": "2117917b",
   "metadata": {},
   "outputs": [
    {
     "name": "stdout",
     "output_type": "stream",
     "text": [
      "[[3 4 5]\n",
      " [6 7 8]]\n"
     ]
    },
    {
     "data": {
      "text/plain": [
       "array([4, 6, 8])"
      ]
     },
     "execution_count": 76,
     "metadata": {},
     "output_type": "execute_result"
    }
   ],
   "source": [
    "# Exercise 8 - refactor the following to use numpy to filter only the even numbers\n",
    "print(b)\n",
    "mask_odd = b % 2 == 0\n",
    "b[mask_odd]"
   ]
  },
  {
   "cell_type": "code",
   "execution_count": 77,
   "id": "94ef9ce2",
   "metadata": {},
   "outputs": [
    {
     "data": {
      "text/plain": [
       "(2, 3)"
      ]
     },
     "execution_count": 77,
     "metadata": {},
     "output_type": "execute_result"
    }
   ],
   "source": [
    "# 9 Exercise 9 - print out the shape of the array b.\n",
    "b.shape"
   ]
  },
  {
   "cell_type": "code",
   "execution_count": 79,
   "id": "e5d136f2",
   "metadata": {},
   "outputs": [
    {
     "name": "stdout",
     "output_type": "stream",
     "text": [
      "[[3 6]\n",
      " [4 7]\n",
      " [5 8]]\n"
     ]
    }
   ],
   "source": [
    "# Exercise 10 - transpose the array b.\n",
    "print(b.transpose())"
   ]
  },
  {
   "cell_type": "code",
   "execution_count": 80,
   "id": "8748935d",
   "metadata": {},
   "outputs": [
    {
     "name": "stdout",
     "output_type": "stream",
     "text": [
      "[3 4 5 6 7 8]\n"
     ]
    }
   ],
   "source": [
    "# Exercise 11 - reshape the array b to be a single list of 6 numbers. (1 x 6)\n",
    "print(np.concatenate(b))"
   ]
  },
  {
   "cell_type": "code",
   "execution_count": 88,
   "id": "bdf8d921",
   "metadata": {},
   "outputs": [
    {
     "ename": "SyntaxError",
     "evalue": "unexpected EOF while parsing (887335644.py, line 2)",
     "output_type": "error",
     "traceback": [
      "\u001b[0;36m  Input \u001b[0;32mIn [88]\u001b[0;36m\u001b[0m\n\u001b[0;31m    print(np.transpose(np.concatenate(b))\u001b[0m\n\u001b[0m                                         ^\u001b[0m\n\u001b[0;31mSyntaxError\u001b[0m\u001b[0;31m:\u001b[0m unexpected EOF while parsing\n"
     ]
    }
   ],
   "source": [
    "# Exercise 12 - reshape the array b to be a list of 6 lists, each containing only 1 number (6 x 1)\n",
    "print(np.transpose(np.concatenate(b))"
   ]
  },
  {
   "cell_type": "markdown",
   "id": "eedafc87",
   "metadata": {},
   "source": [
    "# Setup 3\n",
    "- c = [\n",
    "    [1, 2, 3],\n",
    "    [4, 5, 6],\n",
    "    [7, 8, 9]\n",
    "]\n",
    "\n",
    "## HINT, you'll first need to make sure that the \"c\" variable is a numpy array prior to using numpy array methods.\n",
    "## Exercise 1 - Find the min, max, sum, and product of c.\n",
    "\n",
    "## Exercise 2 - Determine the standard deviation of c.\n",
    "\n",
    "## Exercise 3 - Determine the variance of c.\n",
    "\n",
    "## Exercise 4 - Print out the shape of the array c\n",
    "\n",
    "## Exercise 5 - Transpose c and print out transposed result.\n",
    "\n",
    "## Exercise 6 - Get the dot product of the array c with c. \n",
    "\n",
    "## Exercise 7 - Write the code necessary to sum up the result of c times c transposed. Answer should be 261\n",
    "\n",
    "## Exercise 8 - Write the code necessary to determine the product of c times c transposed. Answer should be 131681894400.\n"
   ]
  },
  {
   "cell_type": "code",
   "execution_count": 89,
   "id": "bfe37afb",
   "metadata": {},
   "outputs": [],
   "source": [
    "# Set up\n",
    "c = [\n",
    "    [1, 2, 3],\n",
    "    [4, 5, 6],\n",
    "    [7, 8, 9]\n",
    "]"
   ]
  },
  {
   "cell_type": "code",
   "execution_count": 91,
   "id": "ffbe6999",
   "metadata": {},
   "outputs": [
    {
     "name": "stdout",
     "output_type": "stream",
     "text": [
      "1\n",
      "9\n",
      "45\n",
      "362880\n"
     ]
    }
   ],
   "source": [
    "# 1.\n",
    "c=np.array(c)\n",
    "print(c.min())\n",
    "print(c.max())\n",
    "print(c.sum())\n",
    "print(np.prod(c))"
   ]
  },
  {
   "cell_type": "code",
   "execution_count": 92,
   "id": "c3e27353",
   "metadata": {},
   "outputs": [
    {
     "name": "stdout",
     "output_type": "stream",
     "text": [
      "2.581988897471611\n"
     ]
    }
   ],
   "source": [
    "#2\n",
    "print(c.std())"
   ]
  },
  {
   "cell_type": "code",
   "execution_count": 93,
   "id": "a0ccd506",
   "metadata": {},
   "outputs": [
    {
     "name": "stdout",
     "output_type": "stream",
     "text": [
      "6.666666666666667\n"
     ]
    }
   ],
   "source": [
    "#3\n",
    "print(np.var(c))"
   ]
  },
  {
   "cell_type": "code",
   "execution_count": 94,
   "id": "92e3e0d9",
   "metadata": {},
   "outputs": [
    {
     "name": "stdout",
     "output_type": "stream",
     "text": [
      "(3, 3)\n"
     ]
    }
   ],
   "source": [
    "#4\n",
    "print(c.shape)"
   ]
  },
  {
   "cell_type": "code",
   "execution_count": 95,
   "id": "6e7d485a",
   "metadata": {},
   "outputs": [
    {
     "name": "stdout",
     "output_type": "stream",
     "text": [
      "[[1 4 7]\n",
      " [2 5 8]\n",
      " [3 6 9]]\n"
     ]
    }
   ],
   "source": [
    "#5\n",
    "print(c.transpose())"
   ]
  },
  {
   "cell_type": "code",
   "execution_count": 96,
   "id": "a2cad268",
   "metadata": {},
   "outputs": [
    {
     "name": "stdout",
     "output_type": "stream",
     "text": [
      "[[ 30  36  42]\n",
      " [ 66  81  96]\n",
      " [102 126 150]]\n"
     ]
    }
   ],
   "source": [
    "#6\n",
    "print(np.dot(c,c))"
   ]
  },
  {
   "cell_type": "code",
   "execution_count": 97,
   "id": "739f4b85",
   "metadata": {},
   "outputs": [
    {
     "name": "stdout",
     "output_type": "stream",
     "text": [
      "261\n"
     ]
    }
   ],
   "source": [
    "#7\n",
    "print((c*c.transpose()).sum())"
   ]
  },
  {
   "cell_type": "code",
   "execution_count": 99,
   "id": "0044780f",
   "metadata": {},
   "outputs": [
    {
     "name": "stdout",
     "output_type": "stream",
     "text": [
      "131681894400\n"
     ]
    }
   ],
   "source": [
    "#8\n",
    "print(np.prod(c*c.transpose()))"
   ]
  },
  {
   "cell_type": "markdown",
   "id": "58098c5d",
   "metadata": {},
   "source": [
    "# Setup 4\n",
    "## d = [\n",
    "    [90, 30, 45, 0, 120, 180],\n",
    "    [45, -90, -30, 270, 90, 0],\n",
    "    [60, 45, -45, 90, -45, 180]\n",
    "]\n",
    "\n",
    "### Exercise 1 - Find the sine of all the numbers in d\n",
    "\n",
    "### Exercise 2 - Find the cosine of all the numbers in d\n",
    "\n",
    "### Exercise 3 - Find the tangent of all the numbers in d\n",
    "\n",
    "### Exercise 4 - Find all the negative numbers in d\n",
    "\n",
    "### Exercise 5 - Find all the positive numbers in d\n",
    "\n",
    "### Exercise 6 - Return an array of only the unique numbers in d.\n",
    "\n",
    "### Exercise 7 - Determine how many unique numbers there are in d.\n",
    "\n",
    "### Exercise 8 - Print out the shape of d.\n",
    "\n",
    "### Exercise 9 - Transpose and then print out the shape of d.\n",
    "\n",
    "### Exercise 10 - Reshape d into an array of 9 x 2"
   ]
  },
  {
   "cell_type": "code",
   "execution_count": 109,
   "id": "dba45e1b",
   "metadata": {},
   "outputs": [],
   "source": [
    "#set up\n",
    "d = [\n",
    "[90, 30, 45, 0, 120, 180],\n",
    "[45, -90, -30, 270, 90, 0],\n",
    "[60, 45, -45, 90, -45, 180]\n",
    "]\n",
    "\n",
    "d=np.array(d)"
   ]
  },
  {
   "cell_type": "code",
   "execution_count": 101,
   "id": "499ff994",
   "metadata": {},
   "outputs": [
    {
     "name": "stdout",
     "output_type": "stream",
     "text": [
      "[[ 0.89399666 -0.98803162  0.85090352  0.          0.58061118 -0.80115264]\n",
      " [ 0.85090352 -0.89399666  0.98803162 -0.17604595  0.89399666  0.        ]\n",
      " [-0.30481062  0.85090352 -0.85090352  0.89399666 -0.85090352 -0.80115264]]\n"
     ]
    }
   ],
   "source": [
    "# 1\n",
    "print(np.sin(d))"
   ]
  },
  {
   "cell_type": "code",
   "execution_count": 102,
   "id": "b266a422",
   "metadata": {},
   "outputs": [
    {
     "name": "stdout",
     "output_type": "stream",
     "text": [
      "[[-0.44807362  0.15425145  0.52532199  1.          0.81418097 -0.59846007]\n",
      " [ 0.52532199 -0.44807362  0.15425145  0.98438195 -0.44807362  1.        ]\n",
      " [-0.95241298  0.52532199  0.52532199 -0.44807362  0.52532199 -0.59846007]]\n"
     ]
    }
   ],
   "source": [
    "#2\n",
    "print(np.cos(d))"
   ]
  },
  {
   "cell_type": "code",
   "execution_count": 103,
   "id": "5b10e53b",
   "metadata": {},
   "outputs": [
    {
     "name": "stdout",
     "output_type": "stream",
     "text": [
      "[[-1.99520041 -6.4053312   1.61977519  0.          0.71312301  1.33869021]\n",
      " [ 1.61977519  1.99520041  6.4053312  -0.17883906 -1.99520041  0.        ]\n",
      " [ 0.32004039  1.61977519 -1.61977519 -1.99520041 -1.61977519  1.33869021]]\n"
     ]
    }
   ],
   "source": [
    "#3\n",
    "print(np.tan(d))"
   ]
  },
  {
   "cell_type": "code",
   "execution_count": 110,
   "id": "5d65aff3",
   "metadata": {},
   "outputs": [
    {
     "data": {
      "text/plain": [
       "array([-90, -30, -45, -45])"
      ]
     },
     "execution_count": 110,
     "metadata": {},
     "output_type": "execute_result"
    }
   ],
   "source": [
    "#4\n",
    "d[d < 0]"
   ]
  },
  {
   "cell_type": "code",
   "execution_count": 111,
   "id": "b48f3cd4",
   "metadata": {},
   "outputs": [
    {
     "data": {
      "text/plain": [
       "array([ 90,  30,  45, 120, 180,  45, 270,  90,  60,  45,  90, 180])"
      ]
     },
     "execution_count": 111,
     "metadata": {},
     "output_type": "execute_result"
    }
   ],
   "source": [
    "#5\n",
    "d[d > 0]"
   ]
  },
  {
   "cell_type": "code",
   "execution_count": 112,
   "id": "7e1251ae",
   "metadata": {},
   "outputs": [
    {
     "data": {
      "text/plain": [
       "array([-90, -45, -30,   0,  30,  45,  60,  90, 120, 180, 270])"
      ]
     },
     "execution_count": 112,
     "metadata": {},
     "output_type": "execute_result"
    }
   ],
   "source": [
    "#6\n",
    "np.unique(d)"
   ]
  },
  {
   "cell_type": "code",
   "execution_count": 114,
   "id": "275260f3",
   "metadata": {},
   "outputs": [
    {
     "data": {
      "text/plain": [
       "11"
      ]
     },
     "execution_count": 114,
     "metadata": {},
     "output_type": "execute_result"
    }
   ],
   "source": [
    "#7\n",
    "len(np.unique(d))"
   ]
  },
  {
   "cell_type": "code",
   "execution_count": 115,
   "id": "6802d468",
   "metadata": {},
   "outputs": [
    {
     "name": "stdout",
     "output_type": "stream",
     "text": [
      "(3, 6)\n"
     ]
    }
   ],
   "source": [
    "#8\n",
    "print(d.shape)"
   ]
  },
  {
   "cell_type": "code",
   "execution_count": 116,
   "id": "e7edf9ed",
   "metadata": {},
   "outputs": [
    {
     "name": "stdout",
     "output_type": "stream",
     "text": [
      "(6, 3)\n"
     ]
    }
   ],
   "source": [
    "#9\n",
    "print(d.transpose().shape)"
   ]
  },
  {
   "cell_type": "code",
   "execution_count": 117,
   "id": "e12a2ba3",
   "metadata": {},
   "outputs": [
    {
     "name": "stdout",
     "output_type": "stream",
     "text": [
      "[[ 90  30]\n",
      " [ 45   0]\n",
      " [120 180]\n",
      " [ 45 -90]\n",
      " [-30 270]\n",
      " [ 90   0]\n",
      " [ 60  45]\n",
      " [-45  90]\n",
      " [-45 180]]\n"
     ]
    }
   ],
   "source": [
    "#10\n",
    "print(d.reshape(9,2))"
   ]
  },
  {
   "cell_type": "code",
   "execution_count": null,
   "id": "4102e2b6",
   "metadata": {},
   "outputs": [],
   "source": []
  }
 ],
 "metadata": {
  "kernelspec": {
   "display_name": "Python 3 (ipykernel)",
   "language": "python",
   "name": "python3"
  },
  "language_info": {
   "codemirror_mode": {
    "name": "ipython",
    "version": 3
   },
   "file_extension": ".py",
   "mimetype": "text/x-python",
   "name": "python",
   "nbconvert_exporter": "python",
   "pygments_lexer": "ipython3",
   "version": "3.9.12"
  }
 },
 "nbformat": 4,
 "nbformat_minor": 5
}
